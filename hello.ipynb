{
 "cells": [
  {
   "cell_type": "code",
   "execution_count": 1,
   "metadata": {},
   "outputs": [
    {
     "name": "stdout",
     "output_type": "stream",
     "text": [
      "ABCDEF\n",
      "ABCDE\n",
      "ABCD\n",
      "ABC\n",
      "AB\n",
      "A\n",
      "ABCDEF\n",
      "AB\n",
      "ABC\n",
      "ABCD\n",
      "ABCDE\n",
      "ABCDEF\n"
     ]
    }
   ],
   "source": [
    "s = 'ABCDEF'\n",
    "n = len(s)\n",
    "for i in range(n, 0, -1):\n",
    "    print(s[:i])\n",
    "print(s)\n",
    "for i in range(2,n+1):\n",
    "    print(s[:i])\n"
   ]
  },
  {
   "cell_type": "code",
   "execution_count": 3,
   "metadata": {},
   "outputs": [
    {
     "name": "stdout",
     "output_type": "stream",
     "text": [
      "45 is not squarefree.\n"
     ]
    }
   ],
   "source": [
    "import math\n",
    "\n",
    "def is_squarefree(n):\n",
    "    i = 2\n",
    "    while i * i <= n:\n",
    "        if n % (i * i) == 0:\n",
    "            return False\n",
    "        i += 1\n",
    "    return True\n",
    "\n",
    "num = int(input('Enter an integer: '))\n",
    "if is_squarefree(num):\n",
    "    print(f'{num} is squarefree.')\n",
    "else:\n",
    "    print(f'{num} is not squarefree.')"
   ]
  },
  {
   "cell_type": "code",
   "execution_count": null,
   "metadata": {},
   "outputs": [],
   "source": [
    "import tkinter as tk\n",
    "\n",
    "root = tk.Tk()\n",
    "root.title(\"Form\")\n",
    "\n",
    "# Create labels and entries for each field\n",
    "name_label = tk.Label(root, text=\"Name\")\n",
    "name_entry = tk.Entry(root)\n",
    "age_label = tk.Label(root, text=\"Age\")\n",
    "age_entry = tk.Entry(root)\n",
    "email_label = tk.Label(root, text=\"Email\")\n",
    "email_entry = tk.Entry(root)\n",
    "phone_label = tk.Label(root, text=\"Phone\")\n",
    "phone_entry = tk.Entry(root)\n",
    "\n",
    "# Create submit button\n",
    "submit_button = tk.Button(root, text=\"Submit\")\n",
    "\n",
    "# Grid layout\n",
    "name_label.grid(row=0, column=0)\n",
    "name_entry.grid(row=0, column=1)\n",
    "age_label.grid(row=1, column=0)\n",
    "age_entry.grid(row=1, column=1)\n",
    "email_label.grid(row=2, column=0)\n",
    "email_entry.grid(row=2, column=1)\n",
    "phone_label.grid(row=3,column=0)\n",
    "phone_entry.grid(row=3,column=1)\n",
    "\n",
    "submit_button.grid(row=4,columnspan=2)\n",
    "\n",
    "root.mainloop()"
   ]
  }
 ],
 "metadata": {
  "kernelspec": {
   "display_name": "Python 3",
   "language": "python",
   "name": "python3"
  },
  "language_info": {
   "codemirror_mode": {
    "name": "ipython",
    "version": 3
   },
   "file_extension": ".py",
   "mimetype": "text/x-python",
   "name": "python",
   "nbconvert_exporter": "python",
   "pygments_lexer": "ipython3",
   "version": "3.11.2"
  },
  "orig_nbformat": 4
 },
 "nbformat": 4,
 "nbformat_minor": 2
}
